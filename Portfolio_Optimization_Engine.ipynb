{
 "cells": [
  {
   "cell_type": "markdown",
   "metadata": {
    "id": "vqgA_yPbGFnM"
   },
   "source": [
    "## Portfolio Optimzation Engine"
   ]
  },
  {
   "cell_type": "code",
   "execution_count": null,
   "metadata": {},
   "outputs": [],
   "source": [
    "# Import key librares and modules \n",
    "import pandas as pd\n",
    "import numpy as np\n",
    "import matplotlib.pyplot as plt\n",
    "import seaborn as sns\n",
    "import datetime as datetime\n",
    "import plotly.express as px\n",
    "import plotly.graph_objects as go"
   ]
  },
  {
   "cell_type": "code",
   "execution_count": null,
   "metadata": {},
   "outputs": [],
   "source": [
    "# Define a function that performs interactive data visualization using Plotly Express\n",
    "def plot_financial_data(df, title):\n",
    "    \n",
    "    fig = px.line(title = title)\n",
    "    \n",
    "    # For loop that plots all stock prices in the pandas dataframe df\n",
    "    # Note that index starts with 1 because we want to skip the date column\n",
    "    \n",
    "    for i in df.columns[1:]:\n",
    "        fig.add_scatter(x = df['Date'], y = df[i], name = i)\n",
    "        fig.update_traces(line_width = 5)\n",
    "        fig.update_layout({'plot_bgcolor': \"white\"})\n",
    "\n",
    "    fig.show()"
   ]
  },
  {
   "cell_type": "markdown",
   "metadata": {},
   "source": [
    "# PERFORM DATA VISUALIZATION FOR MULTIPLE STOCKS"
   ]
  },
  {
   "cell_type": "code",
   "execution_count": null,
   "metadata": {},
   "outputs": [],
   "source": [
    "import yfinance as yf\n",
    "import pandas as pd\n",
    "from datetime import datetime\n",
    "\n",
    "# Energy Industry - top 10 leading companies\n",
    "tickers = [\"NEE\", \"FSLR\", \"BE\", \"CWEN\", \"ORA\", \"RUN\", \"PLUG\", \"NEP\", \"AMRC\", \"REX\"]\n",
    "\n",
    "end_date = datetime.now().strftime('%Y-%m-%d')\n",
    "start_date = '2019-11-25'\n",
    "\n",
    "pharma_stock_prices= yf.download(tickers, start = start_date, end = end_date)[['Adj Close']]\n",
    "\n",
    "pharma_stock_prices.columns = tickers\n",
    "pharma_stock_prices"
   ]
  },
  {
   "cell_type": "code",
   "execution_count": null,
   "metadata": {},
   "outputs": [],
   "source": [
    "pharma_stock_prices.isnull().sum()"
   ]
  },
  {
   "cell_type": "code",
   "execution_count": null,
   "metadata": {},
   "outputs": [],
   "source": [
    "pharma_stock_prices.dropna(axis=0,inplace=True)\n",
    "pharma_stock_prices.isnull().sum()"
   ]
  },
  {
   "cell_type": "code",
   "execution_count": null,
   "metadata": {},
   "outputs": [],
   "source": [
    "pharma_stock_prices.info();"
   ]
  },
  {
   "cell_type": "code",
   "execution_count": null,
   "metadata": {},
   "outputs": [],
   "source": [
    "pharma_stock_prices.index = pharma_stock_prices.index.strftime('%Y-%m-%d')\n",
    "pharma_stock_prices.reset_index(inplace=True)\n",
    "pharma_stock_prices"
   ]
  },
  {
   "cell_type": "code",
   "execution_count": null,
   "metadata": {},
   "outputs": [],
   "source": [
    "close_price_df = pharma_stock_prices"
   ]
  },
  {
   "cell_type": "code",
   "execution_count": null,
   "metadata": {},
   "outputs": [],
   "source": [
    "# The objective of this code cell is to calculate the percentage daily return\n",
    "# We will perform this calculation on all stocks except for the first column which is \"Date\"\n",
    "daily_returns_df = close_price_df.iloc[:, 1:].pct_change() * 100\n",
    "daily_returns_df.replace(np.nan, 0, inplace = True)\n",
    "daily_returns_df"
   ]
  },
  {
   "cell_type": "code",
   "execution_count": null,
   "metadata": {},
   "outputs": [],
   "source": [
    "daily_returns_df.mean()"
   ]
  },
  {
   "cell_type": "code",
   "execution_count": null,
   "metadata": {},
   "outputs": [],
   "source": [
    "# Insert the date column at the start of the Pandas DataFrame (@ index = 0)\n",
    "daily_returns_df.insert(0, \"Date\", close_price_df['Date'])\n",
    "daily_returns_df"
   ]
  },
  {
   "cell_type": "code",
   "execution_count": null,
   "metadata": {
    "colab": {
     "base_uri": "https://localhost:8080/",
     "height": 542
    },
    "executionInfo": {
     "elapsed": 1475,
     "status": "ok",
     "timestamp": 1624997046102,
     "user": {
      "displayName": "Stemplicity",
      "photoUrl": "https://lh3.googleusercontent.com/a-/AOh14Gj2vCFt-bD5mPBhUWX0QA6xiBgoXQXtwUm2jgjaCg=s64",
      "userId": "10668071569687886186"
     },
     "user_tz": 240
    },
    "id": "zu9MvQMN6Uuu",
    "outputId": "8fef83c5-27bc-4668-e993-6b558c96e026"
   },
   "outputs": [],
   "source": [
    "# Plot closing prices using plotly Express. Note that we used the same pre-defined function \"plot_financial_data\"\n",
    "plot_financial_data(close_price_df, 'Adjusted Closing Prices [$]')"
   ]
  },
  {
   "cell_type": "code",
   "execution_count": null,
   "metadata": {},
   "outputs": [],
   "source": [
    "# Plot the stocks daily returns\n",
    "plot_financial_data(daily_returns_df, 'Percentage Daily Returns [%]')"
   ]
  },
  {
   "cell_type": "code",
   "execution_count": null,
   "metadata": {},
   "outputs": [],
   "source": [
    "# Plot histograms for stocks daily returns using plotly express\n",
    "# Compare META to JNJ daily returns histograms\n",
    "fig = px.histogram(daily_returns_df.drop(columns = ['Date']))\n",
    "fig.update_layout({'plot_bgcolor': \"white\"})"
   ]
  },
  {
   "cell_type": "code",
   "execution_count": null,
   "metadata": {},
   "outputs": [],
   "source": [
    "# Plot a heatmap showing the correlations between daily returns\n",
    "# Strong positive correlations between Catterpillar and John Deere - both into heavy equipment and machinery\n",
    "# META and Google - both into Tech and Cloud Computing\n",
    "plt.figure(figsize = (20, 15))\n",
    "sns.heatmap(daily_returns_df.drop(columns = ['Date']).corr(), annot = True);"
   ]
  },
  {
   "cell_type": "code",
   "execution_count": null,
   "metadata": {},
   "outputs": [],
   "source": [
    "# Plot the Pairplot between stocks daily returns\n",
    "sns.pairplot(daily_returns_df);"
   ]
  },
  {
   "cell_type": "code",
   "execution_count": null,
   "metadata": {},
   "outputs": [],
   "source": [
    "# Function to scale stock prices based on their initial starting price\n",
    "# The objective of this function is to set all prices to start at a value of 1 \n",
    "def price_scaling(raw_prices_df):\n",
    "    scaled_prices_df = raw_prices_df.copy()\n",
    "    for i in raw_prices_df.columns[1:]:\n",
    "          scaled_prices_df[i] = raw_prices_df[i]/raw_prices_df[i][0]\n",
    "    return scaled_prices_df"
   ]
  },
  {
   "cell_type": "code",
   "execution_count": null,
   "metadata": {},
   "outputs": [],
   "source": [
    "scaled_data = price_scaling(close_price_df)\n",
    "scaled_data"
   ]
  },
  {
   "cell_type": "markdown",
   "metadata": {
    "id": "3hLk0-WuWu1A"
   },
   "source": [
    "# DEFINE A FUNCTION THAT GENERATES RANDOM PORTFOLIO WEIGHTS"
   ]
  },
  {
   "cell_type": "code",
   "execution_count": null,
   "metadata": {},
   "outputs": [],
   "source": [
    "np.round(0.005,2) < 0.01"
   ]
  },
  {
   "cell_type": "code",
   "execution_count": null,
   "metadata": {},
   "outputs": [],
   "source": [
    "# Let's create an array that holds random portfolio weights\n",
    "# Note that portfolio weights must add up to 1 \n",
    "import random\n",
    "import array\n",
    "\n",
    "def generate_portfolio_weights(n):\n",
    "    weights = []\n",
    "    for i in range(n):\n",
    "        weights.append(random.random())\n",
    "\n",
    "    # let's make the sum of all weights add up to 1\n",
    "    weights = np.round(weights/np.sum(weights),2)\n",
    "    return weights"
   ]
  },
  {
   "cell_type": "code",
   "execution_count": null,
   "metadata": {},
   "outputs": [],
   "source": [
    "# Call the function (Run this cell multiple times to generate different outputs)\n",
    "weights = generate_portfolio_weights(10)\n",
    "if any(w < 0.01 for w in weights):\n",
    "    print(\"In Valid\") \n",
    "    print(weights)\n",
    "else:\n",
    "    print(weights)"
   ]
  },
  {
   "cell_type": "code",
   "execution_count": null,
   "metadata": {},
   "outputs": [],
   "source": [
    "np.sum(weights)"
   ]
  },
  {
   "cell_type": "markdown",
   "metadata": {},
   "source": [
    "# PERFORM ASSET ALLOCATION & CALCULATE PORTFOLIO DAILY VALUE/RETURN"
   ]
  },
  {
   "cell_type": "code",
   "execution_count": null,
   "metadata": {},
   "outputs": [],
   "source": [
    "# Let's display \"close_price_df\" Pandas DataFrame\n",
    "close_price_df"
   ]
  },
  {
   "cell_type": "code",
   "execution_count": null,
   "metadata": {},
   "outputs": [],
   "source": [
    "# Scale stock prices using the \"price_scaling\" function that we defined earlier (make all stock values start at 1)\n",
    "portfolio_df = close_price_df.copy()\n",
    "scaled_df = price_scaling(portfolio_df)\n",
    "scaled_df"
   ]
  },
  {
   "cell_type": "code",
   "execution_count": null,
   "metadata": {},
   "outputs": [],
   "source": [
    "# Use enumerate() method to obtain the stock names along with a counter \"i\" (0, 1, 2, 3,..etc.)\n",
    "# This counter \"i\" will be used as an index to access elements in the \"weights\" list\n",
    "initial_investment = 100\n",
    "for i, stock in enumerate(scaled_df.columns[1:]):\n",
    "    portfolio_df[stock] = weights[i] * scaled_df[stock] * initial_investment\n",
    "portfolio_df.round(1)"
   ]
  },
  {
   "cell_type": "code",
   "execution_count": null,
   "metadata": {},
   "outputs": [],
   "source": [
    "# Assume that we have $1,000,000 that we would like to invest in one or more of the selected stocks\n",
    "# Let's create a function that receives the following arguments: \n",
    "      # (1) Stocks closing prices\n",
    "      # (2) Random weights \n",
    "      # (3) Initial investment amount\n",
    "# The function will return a DataFrame that contains the following:\n",
    "      # (1) Daily value (position) of each individual stock over the specified time period\n",
    "      # (2) Total daily value of the portfolio \n",
    "      # (3) Percentage daily return \n",
    "\n",
    "def asset_allocation(df, weights, initial_investment):\n",
    "    portfolio_df = df.copy()\n",
    "\n",
    "    # Scale stock prices using the \"price_scaling\" function that we defined earlier (Make them all start at 1)\n",
    "    scaled_df = price_scaling(df)\n",
    "  \n",
    "    for i, stock in enumerate(scaled_df.columns[1:]):\n",
    "        portfolio_df[stock] = scaled_df[stock] * weights[i] * initial_investment\n",
    "\n",
    "    # Sum up all values and place the result in a new column titled \"portfolio value [$]\" \n",
    "    # Note that we excluded the date column from this calculation\n",
    "    portfolio_df['Portfolio Value [$]'] = portfolio_df[portfolio_df != 'Date'].sum(axis = 1, numeric_only = True)\n",
    "            \n",
    "    # Calculate the portfolio percentage daily return and replace NaNs with zeros\n",
    "    portfolio_df['Portfolio Daily Return [%]'] = portfolio_df['Portfolio Value [$]'].pct_change(1) * 100 \n",
    "    portfolio_df.replace(np.nan, 0, inplace = True)\n",
    "    \n",
    "    return portfolio_df"
   ]
  },
  {
   "cell_type": "code",
   "execution_count": null,
   "metadata": {
    "executionInfo": {
     "elapsed": 375,
     "status": "ok",
     "timestamp": 1624997077501,
     "user": {
      "displayName": "Stemplicity",
      "photoUrl": "https://lh3.googleusercontent.com/a-/AOh14Gj2vCFt-bD5mPBhUWX0QA6xiBgoXQXtwUm2jgjaCg=s64",
      "userId": "10668071569687886186"
     },
     "user_tz": 240
    },
    "id": "5tFeuHwrEQLs"
   },
   "outputs": [],
   "source": [
    "# Now let's put this code in a function and generate random weights\n",
    "# Let's obtain the number of stocks under consideration (note that we ignored the \"Date\" column) \n",
    "n = len(close_price_df.columns)-1\n",
    "\n",
    "# Let's generate random weights \n",
    "print('Number of stocks under consideration = {}'.format(n))\n",
    "weights = generate_portfolio_weights(n)\n",
    "print('Portfolio weights = {}'.format(weights))\n",
    "\n",
    "# Let's test out the \"asset_allocation\" function\n",
    "portfolio_df = asset_allocation(close_price_df, weights, 100)\n",
    "portfolio_df.round(2)"
   ]
  },
  {
   "cell_type": "code",
   "execution_count": null,
   "metadata": {},
   "outputs": [],
   "source": [
    "# Plot the portfolio percentage daily return\n",
    "plot_financial_data(portfolio_df[['Date', 'Portfolio Daily Return [%]']], 'Portfolio Percentage Daily Return [%]')\n",
    "\n",
    "# Plot each stock position in our portfolio over time\n",
    "# This graph shows how our initial investment in each individual stock grows over tibme\n",
    "plot_financial_data(portfolio_df.drop(['Portfolio Value [$]', 'Portfolio Daily Return [%]'], axis = 1), 'Portfolio positions [$]')\n",
    "\n",
    "# Plot the total daily value of the portfolio (sum of all positions)\n",
    "plot_financial_data(portfolio_df[['Date', 'Portfolio Value [$]']], 'Total Portfolio Value [$]')"
   ]
  },
  {
   "cell_type": "code",
   "execution_count": null,
   "metadata": {},
   "outputs": [],
   "source": [
    "import math\n",
    "\n",
    "years = 5\n",
    "final_value = portfolio_df['Portfolio Value [$]'][len(portfolio_df)-1]\n",
    "initial_value = portfolio_df['Portfolio Value [$]'][0]\n",
    "cagr = math.pow(final_value / initial_value, 1 / years) - 1\n",
    "print(f\"CAGR: {cagr*100}%\")\n"
   ]
  },
  {
   "cell_type": "markdown",
   "metadata": {},
   "source": [
    "# DEFINE THE \"SIMULATION\" FUNCTION THAT PERFORMS ASSET ALLOCATION, AND CALCULATES KEY PORTFOLIO METRICS"
   ]
  },
  {
   "cell_type": "code",
   "execution_count": null,
   "metadata": {
    "executionInfo": {
     "elapsed": 118,
     "status": "ok",
     "timestamp": 1624997097990,
     "user": {
      "displayName": "Stemplicity",
      "photoUrl": "https://lh3.googleusercontent.com/a-/AOh14Gj2vCFt-bD5mPBhUWX0QA6xiBgoXQXtwUm2jgjaCg=s64",
      "userId": "10668071569687886186"
     },
     "user_tz": 240
    },
    "id": "5AW2K68lor2v"
   },
   "outputs": [],
   "source": [
    "# Let's define the simulation engine function \n",
    "# The function receives: \n",
    "    # (1) portfolio weights\n",
    "    # (2) initial investment amount\n",
    "# The function performs asset allocation and calculates portfolio statistical metrics including Sharpe ratio\n",
    "# The function returns: \n",
    "    # (1) Expected portfolio return \n",
    "    # (2) Expected volatility \n",
    "    # (3) Sharpe ratio \n",
    "    # (4) Return on investment \n",
    "    # (5) Final portfolio value in dollars\n",
    "\n",
    "\n",
    "def simulation_engine(weights, initial_investment):\n",
    "    # Perform asset allocation using the random weights (sent as arguments to the function)\n",
    "    portfolio_df = asset_allocation(close_price_df, weights, initial_investment)\n",
    "  \n",
    "    # Calculate the return on the investment \n",
    "    # Return on investment is calculated using the last final value of the portfolio compared to its initial value\n",
    "    return_on_investment = ((portfolio_df['Portfolio Value [$]'][-1:] - \n",
    "                             portfolio_df['Portfolio Value [$]'][0])/ \n",
    "                             portfolio_df['Portfolio Value [$]'][0]) * 100\n",
    "  \n",
    "    # Daily change of every stock in the portfolio (Note that we dropped the date, portfolio daily worth and daily % returns) \n",
    "    portfolio_daily_return_df = portfolio_df.drop(columns = ['Date', 'Portfolio Value [$]', 'Portfolio Daily Return [%]'])\n",
    "    portfolio_daily_return_df = portfolio_daily_return_df.pct_change(1) \n",
    "  \n",
    "    # Portfolio Expected Return formula\n",
    "    expected_portfolio_return = np.sum(weights * portfolio_daily_return_df.mean()) * 252\n",
    "  \n",
    "    # Portfolio volatility (risk) formula\n",
    "    # The risk of an asset is measured using the standard deviation which indicates the dispertion away from the mean\n",
    "    # The risk of a portfolio is not a simple sum of the risks of the individual assets within the portfolio\n",
    "    # Portfolio risk must consider correlations between assets within the portfolio which is indicated by the covariance \n",
    "    # The covariance determines the relationship between the movements of two random variables\n",
    "    # When two stocks move together, they have a positive covariance when they move inversely, the have a negative covariance \n",
    "\n",
    "    covariance = portfolio_daily_return_df.cov() * 252 \n",
    "    expected_volatility = np.sqrt(np.dot(weights.T, np.dot(covariance, weights)))\n",
    "\n",
    "    # Check out the chart for the 10-years U.S. treasury at https://ycharts.com/indicators/10_year_treasury_rate\n",
    "    rf = 0.0375 # Try to set the risk free rate of return to 1% (assumption)\n",
    "\n",
    "    # Calculate Sharpe ratio\n",
    "    sharpe_ratio = (expected_portfolio_return - rf)/expected_volatility \n",
    "    return expected_portfolio_return, expected_volatility, sharpe_ratio, portfolio_df['Portfolio Value [$]'][-1:].values[0], return_on_investment.values[0]\n",
    "  "
   ]
  },
  {
   "cell_type": "code",
   "execution_count": null,
   "metadata": {},
   "outputs": [],
   "source": [
    "weights = generate_portfolio_weights(10)\n",
    "print(weights)"
   ]
  },
  {
   "cell_type": "code",
   "execution_count": null,
   "metadata": {},
   "outputs": [],
   "source": [
    "# Let's test out the \"simulation_engine\" function and print out statistical metrics\n",
    "# Define the initial investment amount\n",
    "initial_investment = 100\n",
    "portfolio_metrics = simulation_engine(weights, initial_investment)"
   ]
  },
  {
   "cell_type": "code",
   "execution_count": null,
   "metadata": {},
   "outputs": [],
   "source": [
    "print('Expected Portfolio Annual Return = {:.2f}%'.format(portfolio_metrics[0] * 100))\n",
    "print('Portfolio Standard Deviation (Volatility) = {:.2f}%'.format(portfolio_metrics[1] * 100))\n",
    "print('Sharpe Ratio = {:.2f}'.format(portfolio_metrics[2]))\n",
    "print('Portfolio Final Value = ${:.2f}'.format(portfolio_metrics[3]))\n",
    "print('Return on Investment = {:.2f}%'.format(portfolio_metrics[4]))\n"
   ]
  },
  {
   "cell_type": "markdown",
   "metadata": {
    "id": "T5cDA0xpkDQZ"
   },
   "source": [
    "# RUN MONTE CARLO SIMULATIONS "
   ]
  },
  {
   "cell_type": "code",
   "execution_count": null,
   "metadata": {
    "colab": {
     "base_uri": "https://localhost:8080/"
    },
    "executionInfo": {
     "elapsed": 323365,
     "status": "ok",
     "timestamp": 1624997531606,
     "user": {
      "displayName": "Stemplicity",
      "photoUrl": "https://lh3.googleusercontent.com/a-/AOh14Gj2vCFt-bD5mPBhUWX0QA6xiBgoXQXtwUm2jgjaCg=s64",
      "userId": "10668071569687886186"
     },
     "user_tz": 240
    },
    "id": "Gr8k5i2Vn7eY",
    "outputId": "35d859bb-eff4-4536-a430-3a231f7c232e"
   },
   "outputs": [],
   "source": [
    "# Set the number of simulation runs\n",
    "sim_runs = 100000\n",
    "initial_investment = 100\n",
    "\n",
    "# Placeholder to store all weights\n",
    "weights_runs = np.zeros((sim_runs, n))\n",
    "\n",
    "# Placeholder to store all Sharpe ratios\n",
    "sharpe_ratio_runs = np.zeros(sim_runs)\n",
    "\n",
    "# Placeholder to store all expected returns\n",
    "expected_portfolio_returns_runs = np.zeros(sim_runs)\n",
    "\n",
    "# Placeholder to store all volatility values\n",
    "volatility_runs = np.zeros(sim_runs)\n",
    "\n",
    "# Placeholder to store all returns on investment\n",
    "return_on_investment_runs = np.zeros(sim_runs)\n",
    "\n",
    "# Placeholder to store all final portfolio values\n",
    "final_value_runs = np.zeros(sim_runs)\n",
    "\n",
    "for i in range(sim_runs):\n",
    "    # Generate random weights \n",
    "    weights = generate_portfolio_weights(n)\n",
    "    if any(w < 0.01 for w in weights):\n",
    "        pass\n",
    "    else:\n",
    "        # Store the weights\n",
    "        weights_runs[i,:] = weights\n",
    "        \n",
    "        # Call \"simulation_engine\" function and store Sharpe ratio, return and volatility\n",
    "        # Note that asset allocation is performed using the \"asset_allocation\" function  \n",
    "        expected_portfolio_returns_runs[i], volatility_runs[i], sharpe_ratio_runs[i], final_value_runs[i], return_on_investment_runs[i] = simulation_engine(weights, initial_investment)\n",
    "        print(\"Simulation Run = {}\".format(i))   \n",
    "        print(\"Weights = {}, Final Value = ${:.2f}, Sharpe Ratio = {:.2f}\".format(weights_runs[i].round(3), final_value_runs[i], sharpe_ratio_runs[i]))\n",
    "        print('\\n')\n"
   ]
  },
  {
   "cell_type": "markdown",
   "metadata": {},
   "source": [
    "# PERFORM PORTFOLIO OPTIMIZATION "
   ]
  },
  {
   "cell_type": "code",
   "execution_count": null,
   "metadata": {},
   "outputs": [],
   "source": [
    "# List all Sharpe ratios generated from the simulation\n",
    "sharpe_ratio_runs"
   ]
  },
  {
   "cell_type": "code",
   "execution_count": null,
   "metadata": {
    "colab": {
     "base_uri": "https://localhost:8080/"
    },
    "executionInfo": {
     "elapsed": 104,
     "status": "ok",
     "timestamp": 1624997818888,
     "user": {
      "displayName": "Stemplicity",
      "photoUrl": "https://lh3.googleusercontent.com/a-/AOh14Gj2vCFt-bD5mPBhUWX0QA6xiBgoXQXtwUm2jgjaCg=s64",
      "userId": "10668071569687886186"
     },
     "user_tz": 240
    },
    "id": "ySgZgpbeCm8j",
    "outputId": "7f80f62a-1c9b-42c5-acaf-e766715585ef"
   },
   "outputs": [],
   "source": [
    "# Return the index of the maximum Sharpe ratio (Best simulation run) \n",
    "sharpe_ratio_runs.argmax()"
   ]
  },
  {
   "cell_type": "code",
   "execution_count": null,
   "metadata": {
    "colab": {
     "base_uri": "https://localhost:8080/"
    },
    "executionInfo": {
     "elapsed": 108,
     "status": "ok",
     "timestamp": 1624997819615,
     "user": {
      "displayName": "Stemplicity",
      "photoUrl": "https://lh3.googleusercontent.com/a-/AOh14Gj2vCFt-bD5mPBhUWX0QA6xiBgoXQXtwUm2jgjaCg=s64",
      "userId": "10668071569687886186"
     },
     "user_tz": 240
    },
    "id": "egiRras_DZWl",
    "outputId": "d251a186-0811-41b2-f0d9-53e244353f95"
   },
   "outputs": [],
   "source": [
    "# Return the maximum Sharpe ratio value\n",
    "sharpe_ratio_runs.max()"
   ]
  },
  {
   "cell_type": "code",
   "execution_count": null,
   "metadata": {},
   "outputs": [],
   "source": [
    "weights_runs"
   ]
  },
  {
   "cell_type": "code",
   "execution_count": null,
   "metadata": {
    "colab": {
     "base_uri": "https://localhost:8080/"
    },
    "executionInfo": {
     "elapsed": 150,
     "status": "ok",
     "timestamp": 1624997820047,
     "user": {
      "displayName": "Stemplicity",
      "photoUrl": "https://lh3.googleusercontent.com/a-/AOh14Gj2vCFt-bD5mPBhUWX0QA6xiBgoXQXtwUm2jgjaCg=s64",
      "userId": "10668071569687886186"
     },
     "user_tz": 240
    },
    "id": "bZ-89r0LCul9",
    "outputId": "8f9eeb86-af75-4978-fbe4-9bbe9fdc38b5"
   },
   "outputs": [],
   "source": [
    "# Obtain the portfolio weights that correspond to the maximum Sharpe ratio (Golden set of weights!)\n",
    "weights_runs[sharpe_ratio_runs.argmax(), :]"
   ]
  },
  {
   "cell_type": "code",
   "execution_count": null,
   "metadata": {
    "executionInfo": {
     "elapsed": 301,
     "status": "ok",
     "timestamp": 1624997820654,
     "user": {
      "displayName": "Stemplicity",
      "photoUrl": "https://lh3.googleusercontent.com/a-/AOh14Gj2vCFt-bD5mPBhUWX0QA6xiBgoXQXtwUm2jgjaCg=s64",
      "userId": "10668071569687886186"
     },
     "user_tz": 240
    },
    "id": "vkuvGJbSw0i5"
   },
   "outputs": [],
   "source": [
    "# Return Sharpe ratio, volatility corresponding to the best weights allocation (maximum Sharpe ratio)\n",
    "optimal_portfolio_return, optimal_volatility, optimal_sharpe_ratio, highest_final_value, optimal_return_on_investment = simulation_engine(weights_runs[sharpe_ratio_runs.argmax(), :], initial_investment)"
   ]
  },
  {
   "cell_type": "code",
   "execution_count": null,
   "metadata": {},
   "outputs": [],
   "source": [
    "print('Best Portfolio Metrics Based on {} Monte Carlo Simulation Runs:'.format(sim_runs))\n",
    "print('  - Portfolio Expected Annual Return = {:.02f}%'.format(optimal_portfolio_return * 100))\n",
    "print('  - Portfolio Standard Deviation (Volatility) = {:.02f}%'.format(optimal_volatility * 100))\n",
    "print('  - Sharpe Ratio = {:.02f}'.format(optimal_sharpe_ratio))\n",
    "print('  - Final Value = ${:.02f}'.format(highest_final_value))\n",
    "print('  - Return on Investment = {:.02f}%'.format(optimal_return_on_investment))"
   ]
  },
  {
   "cell_type": "code",
   "execution_count": null,
   "metadata": {
    "colab": {
     "base_uri": "https://localhost:8080/",
     "height": 417
    },
    "executionInfo": {
     "elapsed": 123,
     "status": "ok",
     "timestamp": 1624997584474,
     "user": {
      "displayName": "Stemplicity",
      "photoUrl": "https://lh3.googleusercontent.com/a-/AOh14Gj2vCFt-bD5mPBhUWX0QA6xiBgoXQXtwUm2jgjaCg=s64",
      "userId": "10668071569687886186"
     },
     "user_tz": 240
    },
    "id": "r0FCaiCL206o",
    "outputId": "86ce5cf3-fe63-4e51-a917-db582500b73e"
   },
   "outputs": [],
   "source": [
    "# Create a DataFrame that contains volatility, return, and Sharpe ratio for all simualation runs\n",
    "sim_out_df = pd.DataFrame({'Volatility': volatility_runs.tolist(), 'Portfolio_Return': expected_portfolio_returns_runs.tolist(), 'Sharpe_Ratio': sharpe_ratio_runs.tolist() })\n",
    "sim_out_df"
   ]
  },
  {
   "cell_type": "code",
   "execution_count": null,
   "metadata": {},
   "outputs": [],
   "source": [
    "# Plot volatility vs. return for all simulation runs\n",
    "# Highlight the volatility and return that corresponds to the highest Sharpe ratio\n",
    "import plotly.graph_objects as go\n",
    "fig = px.scatter(sim_out_df, x = 'Volatility', y = 'Portfolio_Return', color = 'Sharpe_Ratio', size = 'Sharpe_Ratio', hover_data = ['Sharpe_Ratio'] )\n",
    "fig.update_layout({'plot_bgcolor': \"white\"})\n",
    "fig.show()\n",
    "\n",
    "\n",
    "# Use this code if Sharpe ratio is negative\n",
    "# fig = px.scatter(sim_out_df, x = 'Volatility', y = 'Portfolio_Return', color = 'Sharpe_Ratio', hover_data = ['Sharpe_Ratio'] )\n"
   ]
  },
  {
   "cell_type": "code",
   "execution_count": null,
   "metadata": {
    "colab": {
     "base_uri": "https://localhost:8080/",
     "height": 542
    },
    "executionInfo": {
     "elapsed": 847,
     "status": "ok",
     "timestamp": 1624997602913,
     "user": {
      "displayName": "Stemplicity",
      "photoUrl": "https://lh3.googleusercontent.com/a-/AOh14Gj2vCFt-bD5mPBhUWX0QA6xiBgoXQXtwUm2jgjaCg=s64",
      "userId": "10668071569687886186"
     },
     "user_tz": 240
    },
    "id": "XeKpVhNV1RIy",
    "outputId": "6c2eff17-9b57-48b9-c63b-d131c4ce528c"
   },
   "outputs": [],
   "source": [
    "# Let's highlight the point with the highest Sharpe ratio\n",
    "fig = px.scatter(sim_out_df, x = 'Volatility', y = 'Portfolio_Return', color = 'Sharpe_Ratio', size = 'Sharpe_Ratio', hover_data = ['Sharpe_Ratio'] )\n",
    "fig.add_trace(go.Scatter(x = [optimal_volatility], y = [optimal_portfolio_return], mode = 'markers', name = 'Optimal Point', marker = dict(size=[40], color = 'red')))\n",
    "fig.update_layout(coloraxis_colorbar = dict(y = 0.7, dtick = 5))\n",
    "fig.update_layout({'plot_bgcolor': \"white\"})\n",
    "fig.show()"
   ]
  },
  {
   "cell_type": "code",
   "execution_count": null,
   "metadata": {},
   "outputs": [],
   "source": []
  }
 ],
 "metadata": {
  "accelerator": "TPU",
  "colab": {
   "authorship_tag": "ABX9TyPISa9hUH2lDRe/0C4YH2M2",
   "collapsed_sections": [],
   "name": "Finance 101 - Portfolio Optimization & Monte Carlo Simulations - Solution Final 2.ipynb",
   "provenance": [
    {
     "file_id": "1eJE05IDEOwcPl1cCN6H6OjA4vEhgn2bJ",
     "timestamp": 1624990079193
    }
   ]
  },
  "kernelspec": {
   "display_name": "Python 3",
   "language": "python",
   "name": "python3"
  },
  "language_info": {
   "codemirror_mode": {
    "name": "ipython",
    "version": 3
   },
   "file_extension": ".py",
   "mimetype": "text/x-python",
   "name": "python",
   "nbconvert_exporter": "python",
   "pygments_lexer": "ipython3",
   "version": "3.12.6"
  }
 },
 "nbformat": 4,
 "nbformat_minor": 4
}
