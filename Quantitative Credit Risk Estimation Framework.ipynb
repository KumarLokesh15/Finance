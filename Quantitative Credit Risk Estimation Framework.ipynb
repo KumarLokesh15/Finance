{
 "cells": [
  {
   "cell_type": "code",
   "execution_count": 2,
   "metadata": {},
   "outputs": [],
   "source": [
    "import pandas as pd\n",
    "import numpy as np\n",
    "from sklearn.model_selection import train_test_split\n",
    "from sklearn.preprocessing import StandardScaler\n",
    "from sklearn.metrics import accuracy_score, mean_squared_error\n",
    "from keras.models import Sequential\n",
    "from keras.layers import Dense\n",
    "from keras.optimizers import Adam"
   ]
  },
  {
   "cell_type": "code",
   "execution_count": 3,
   "metadata": {},
   "outputs": [],
   "source": [
    "# Load the data\n",
    "data = pd.read_csv('loan_data.csv')\n",
    "\n",
    "# Prepare the features and target\n",
    "X = data.drop(['customer_id', 'default'], axis=1)\n",
    "y = data['default']"
   ]
  },
  {
   "cell_type": "code",
   "execution_count": 4,
   "metadata": {},
   "outputs": [],
   "source": [
    "# Split the data into training and testing sets\n",
    "X_train, X_test, y_train, y_test = train_test_split(X, y, test_size=0.2, random_state=42)"
   ]
  },
  {
   "cell_type": "code",
   "execution_count": 5,
   "metadata": {},
   "outputs": [],
   "source": [
    "# Scale the features\n",
    "scaler = StandardScaler()\n",
    "X_train_scaled = scaler.fit_transform(X_train)\n",
    "X_test_scaled = scaler.transform(X_test)"
   ]
  },
  {
   "cell_type": "code",
   "execution_count": 6,
   "metadata": {},
   "outputs": [
    {
     "name": "stderr",
     "output_type": "stream",
     "text": [
      "C:\\Users\\LOKESH\\AppData\\Roaming\\Python\\Python312\\site-packages\\keras\\src\\layers\\core\\dense.py:87: UserWarning: Do not pass an `input_shape`/`input_dim` argument to a layer. When using Sequential models, prefer using an `Input(shape)` object as the first layer in the model instead.\n",
      "  super().__init__(activity_regularizer=activity_regularizer, **kwargs)\n"
     ]
    }
   ],
   "source": [
    "# Create the ANN model\n",
    "model = Sequential()\n",
    "model.add(Dense(128, activation='relu', input_dim=X_train_scaled.shape[1]))\n",
    "model.add(Dense(64, activation='relu'))\n",
    "model.add(Dense(32, activation='relu'))\n",
    "model.add(Dense(16, activation='relu'))\n",
    "model.add(Dense(1, activation='sigmoid'))"
   ]
  },
  {
   "cell_type": "code",
   "execution_count": 7,
   "metadata": {},
   "outputs": [],
   "source": [
    "model.compile(optimizer=Adam(learning_rate=0.001), loss='binary_crossentropy', metrics=['accuracy'])"
   ]
  },
  {
   "cell_type": "code",
   "execution_count": 8,
   "metadata": {},
   "outputs": [],
   "source": [
    "# Train the model\n",
    "history = model.fit(X_train_scaled, y_train, epochs=100, batch_size=32, validation_split=0.2, verbose=0)"
   ]
  },
  {
   "cell_type": "code",
   "execution_count": 9,
   "metadata": {},
   "outputs": [],
   "source": [
    "# Evaluate the model\n",
    "train_loss, train_accuracy = model.evaluate(X_train_scaled, y_train, verbose=0)\n",
    "test_loss, test_accuracy = model.evaluate(X_test_scaled, y_test, verbose=0)"
   ]
  },
  {
   "cell_type": "code",
   "execution_count": 10,
   "metadata": {},
   "outputs": [
    {
     "name": "stdout",
     "output_type": "stream",
     "text": [
      "Train Accuracy: 0.9994\n",
      "Test Accuracy: 0.9970\n"
     ]
    }
   ],
   "source": [
    "print(f\"Train Accuracy: {train_accuracy:.4f}\")\n",
    "print(f\"Test Accuracy: {test_accuracy:.4f}\")"
   ]
  },
  {
   "cell_type": "code",
   "execution_count": 11,
   "metadata": {},
   "outputs": [],
   "source": [
    "# Function to calculate expected loss\n",
    "def calculate_expected_loss(loan_details, recovery_rate=0.1):\n",
    "    # Scale the input\n",
    "    loan_details_scaled = scaler.transform(loan_details.reshape(1, -1))\n",
    "    \n",
    "    # Predict probability of default\n",
    "    pd = model.predict(loan_details_scaled)[0][0]\n",
    "    \n",
    "    # Calculate expected loss\n",
    "    loan_amount = loan_details[2]  # Assuming loan_amt_outstanding is at index 2\n",
    "    expected_loss = pd * (1 - recovery_rate) * loan_amount\n",
    "    \n",
    "    return pd, expected_loss"
   ]
  },
  {
   "cell_type": "code",
   "execution_count": 12,
   "metadata": {},
   "outputs": [
    {
     "name": "stdout",
     "output_type": "stream",
     "text": [
      "\u001b[1m1/1\u001b[0m \u001b[32m━━━━━━━━━━━━━━━━━━━━\u001b[0m\u001b[37m\u001b[0m \u001b[1m0s\u001b[0m 95ms/step\n",
      "Probability of Default: 1.0000\n",
      "Expected Loss: $90000.00\n"
     ]
    },
    {
     "name": "stderr",
     "output_type": "stream",
     "text": [
      "C:\\Users\\LOKESH\\AppData\\Roaming\\Python\\Python312\\site-packages\\sklearn\\base.py:493: UserWarning: X does not have valid feature names, but StandardScaler was fitted with feature names\n",
      "  warnings.warn(\n"
     ]
    }
   ],
   "source": [
    "# Example usage\n",
    "new_loan = np.array([3, 50000, 100000, 40000, 2, 400])  # Example loan details\n",
    "pd, expected_loss = calculate_expected_loss(new_loan)\n",
    "print(f\"Probability of Default: {pd:.4f}\")\n",
    "print(f\"Expected Loss: ${expected_loss:.2f}\")"
   ]
  },
  {
   "cell_type": "code",
   "execution_count": 13,
   "metadata": {},
   "outputs": [],
   "source": [
    "from scipy.special import logsumexp"
   ]
  },
  {
   "cell_type": "code",
   "execution_count": 14,
   "metadata": {},
   "outputs": [],
   "source": [
    "def optimize_fico_buckets(fico_scores, defaults, num_buckets):\n",
    "    N = len(fico_scores)\n",
    "    sorted_indices = np.argsort(fico_scores)\n",
    "    sorted_fico = fico_scores[sorted_indices]\n",
    "    sorted_defaults = defaults[sorted_indices]\n",
    "\n",
    "    def bucket_likelihood(start, end):\n",
    "        k = np.sum(sorted_defaults[start:end])\n",
    "        n = end - start\n",
    "        p = k / n if n > 0 else 0\n",
    "        return k * np.log(p) + (n - k) * np.log(1 - p) if 0 < p < 1 else 0\n",
    "\n",
    "    DP = np.zeros((num_buckets + 1, N + 1))\n",
    "    split_points = np.zeros((num_buckets + 1, N + 1), dtype=int)\n",
    "\n",
    "    for i in range(1, num_buckets + 1):\n",
    "        for j in range(i, N + 1):\n",
    "            max_ll = -np.inf\n",
    "            best_split = i - 1\n",
    "            for k in range(i - 1, j):\n",
    "                ll = DP[i-1][k] + bucket_likelihood(k, j)\n",
    "                if ll > max_ll:\n",
    "                    max_ll = ll\n",
    "                    best_split = k\n",
    "            DP[i][j] = max_ll\n",
    "            split_points[i][j] = best_split\n",
    "\n",
    "    # Backtrack to find optimal bucket boundaries\n",
    "    boundaries = [N]\n",
    "    for i in range(num_buckets, 0, -1):\n",
    "        boundaries.append(split_points[i][boundaries[-1]])\n",
    "    boundaries = boundaries[::-1]\n",
    "\n",
    "    return sorted_fico[boundaries[1:-1]]"
   ]
  },
  {
   "cell_type": "code",
   "execution_count": 15,
   "metadata": {},
   "outputs": [
    {
     "name": "stdout",
     "output_type": "stream",
     "text": [
      "Optimal bucket boundaries: [755 765 765 774 774 788 789 810 810]\n"
     ]
    }
   ],
   "source": [
    "# Example usage:\n",
    "fico_scores = np.array(data['fico_score']) # Your FICO scores here\n",
    "defaults = np.array(data['default']) # Corresponding default indicators (0 or 1)\n",
    "num_buckets = 10\n",
    "\n",
    "optimal_boundaries = optimize_fico_buckets(fico_scores, defaults, num_buckets)\n",
    "print(\"Optimal bucket boundaries:\", optimal_boundaries)"
   ]
  },
  {
   "cell_type": "code",
   "execution_count": null,
   "metadata": {},
   "outputs": [],
   "source": []
  }
 ],
 "metadata": {
  "kernelspec": {
   "display_name": "Python 3",
   "language": "python",
   "name": "python3"
  },
  "language_info": {
   "codemirror_mode": {
    "name": "ipython",
    "version": 3
   },
   "file_extension": ".py",
   "mimetype": "text/x-python",
   "name": "python",
   "nbconvert_exporter": "python",
   "pygments_lexer": "ipython3",
   "version": "3.12.6"
  }
 },
 "nbformat": 4,
 "nbformat_minor": 4
}
